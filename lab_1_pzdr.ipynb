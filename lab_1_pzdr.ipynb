{
 "cells": [
  {
   "cell_type": "markdown",
   "metadata": {},
   "source": []
  },
  {
   "cell_type": "markdown",
   "metadata": {},
   "source": [
    "LAB 1, 05.03.2025\n"
   ]
  },
  {
   "cell_type": "code",
   "execution_count": 1,
   "metadata": {},
   "outputs": [],
   "source": [
    "import numpy as np\n",
    "import matplotlib.pyplot as plt\n",
    "import pandas as pd\n",
    "from sklearn.datasets import load_iris\n"
   ]
  },
  {
   "cell_type": "markdown",
   "metadata": {},
   "source": [
    "Importowanie danych \n"
   ]
  },
  {
   "cell_type": "code",
   "execution_count": 2,
   "metadata": {},
   "outputs": [],
   "source": [
    "from sklearn.datasets import load_iris\n",
    "irisRaw = load_iris()\n"
   ]
  },
  {
   "cell_type": "markdown",
   "metadata": {},
   "source": [
    "Konwersja danych do pakiertu Pandas\n"
   ]
  },
  {
   "cell_type": "code",
   "execution_count": 3,
   "metadata": {},
   "outputs": [],
   "source": [
    "iris = pd.DataFrame(data= np.c_[irisRaw['data'], irisRaw['target']],\n",
    "                     columns= irisRaw['feature_names'] + ['target'])\n",
    "\n",
    "pd.set_option('display.max_rows', None)  # Wyświetla wszystkie wiersze\n",
    "pd.set_option('display.max_columns', None) "
   ]
  },
  {
   "cell_type": "markdown",
   "metadata": {},
   "source": [
    "Zad.1"
   ]
  },
  {
   "cell_type": "code",
   "execution_count": 4,
   "metadata": {},
   "outputs": [
    {
     "name": "stdout",
     "output_type": "stream",
     "text": [
      " zad 1\n",
      "Pierwsze 5 wierszy zbioru danych:\n",
      "     sepal length (cm)  sepal width (cm)  petal length (cm)  petal width (cm)  \\\n",
      "0                  5.1               3.5                1.4               0.2   \n",
      "1                  4.9               3.0                1.4               0.2   \n",
      "2                  4.7               3.2                1.3               0.2   \n",
      "3                  4.6               3.1                1.5               0.2   \n",
      "4                  5.0               3.6                1.4               0.2   \n",
      "5                  5.4               3.9                1.7               0.4   \n",
      "6                  4.6               3.4                1.4               0.3   \n",
      "7                  5.0               3.4                1.5               0.2   \n",
      "8                  4.4               2.9                1.4               0.2   \n",
      "9                  4.9               3.1                1.5               0.1   \n",
      "10                 5.4               3.7                1.5               0.2   \n",
      "11                 4.8               3.4                1.6               0.2   \n",
      "12                 4.8               3.0                1.4               0.1   \n",
      "13                 4.3               3.0                1.1               0.1   \n",
      "14                 5.8               4.0                1.2               0.2   \n",
      "15                 5.7               4.4                1.5               0.4   \n",
      "16                 5.4               3.9                1.3               0.4   \n",
      "17                 5.1               3.5                1.4               0.3   \n",
      "18                 5.7               3.8                1.7               0.3   \n",
      "19                 5.1               3.8                1.5               0.3   \n",
      "20                 5.4               3.4                1.7               0.2   \n",
      "21                 5.1               3.7                1.5               0.4   \n",
      "22                 4.6               3.6                1.0               0.2   \n",
      "23                 5.1               3.3                1.7               0.5   \n",
      "24                 4.8               3.4                1.9               0.2   \n",
      "25                 5.0               3.0                1.6               0.2   \n",
      "26                 5.0               3.4                1.6               0.4   \n",
      "27                 5.2               3.5                1.5               0.2   \n",
      "28                 5.2               3.4                1.4               0.2   \n",
      "29                 4.7               3.2                1.6               0.2   \n",
      "30                 4.8               3.1                1.6               0.2   \n",
      "31                 5.4               3.4                1.5               0.4   \n",
      "32                 5.2               4.1                1.5               0.1   \n",
      "33                 5.5               4.2                1.4               0.2   \n",
      "34                 4.9               3.1                1.5               0.2   \n",
      "35                 5.0               3.2                1.2               0.2   \n",
      "36                 5.5               3.5                1.3               0.2   \n",
      "37                 4.9               3.6                1.4               0.1   \n",
      "38                 4.4               3.0                1.3               0.2   \n",
      "39                 5.1               3.4                1.5               0.2   \n",
      "40                 5.0               3.5                1.3               0.3   \n",
      "41                 4.5               2.3                1.3               0.3   \n",
      "42                 4.4               3.2                1.3               0.2   \n",
      "43                 5.0               3.5                1.6               0.6   \n",
      "44                 5.1               3.8                1.9               0.4   \n",
      "45                 4.8               3.0                1.4               0.3   \n",
      "46                 5.1               3.8                1.6               0.2   \n",
      "47                 4.6               3.2                1.4               0.2   \n",
      "48                 5.3               3.7                1.5               0.2   \n",
      "49                 5.0               3.3                1.4               0.2   \n",
      "50                 7.0               3.2                4.7               1.4   \n",
      "51                 6.4               3.2                4.5               1.5   \n",
      "52                 6.9               3.1                4.9               1.5   \n",
      "53                 5.5               2.3                4.0               1.3   \n",
      "54                 6.5               2.8                4.6               1.5   \n",
      "55                 5.7               2.8                4.5               1.3   \n",
      "56                 6.3               3.3                4.7               1.6   \n",
      "57                 4.9               2.4                3.3               1.0   \n",
      "58                 6.6               2.9                4.6               1.3   \n",
      "59                 5.2               2.7                3.9               1.4   \n",
      "60                 5.0               2.0                3.5               1.0   \n",
      "61                 5.9               3.0                4.2               1.5   \n",
      "62                 6.0               2.2                4.0               1.0   \n",
      "63                 6.1               2.9                4.7               1.4   \n",
      "64                 5.6               2.9                3.6               1.3   \n",
      "65                 6.7               3.1                4.4               1.4   \n",
      "66                 5.6               3.0                4.5               1.5   \n",
      "67                 5.8               2.7                4.1               1.0   \n",
      "68                 6.2               2.2                4.5               1.5   \n",
      "69                 5.6               2.5                3.9               1.1   \n",
      "70                 5.9               3.2                4.8               1.8   \n",
      "71                 6.1               2.8                4.0               1.3   \n",
      "72                 6.3               2.5                4.9               1.5   \n",
      "73                 6.1               2.8                4.7               1.2   \n",
      "74                 6.4               2.9                4.3               1.3   \n",
      "75                 6.6               3.0                4.4               1.4   \n",
      "76                 6.8               2.8                4.8               1.4   \n",
      "77                 6.7               3.0                5.0               1.7   \n",
      "78                 6.0               2.9                4.5               1.5   \n",
      "79                 5.7               2.6                3.5               1.0   \n",
      "80                 5.5               2.4                3.8               1.1   \n",
      "81                 5.5               2.4                3.7               1.0   \n",
      "82                 5.8               2.7                3.9               1.2   \n",
      "83                 6.0               2.7                5.1               1.6   \n",
      "84                 5.4               3.0                4.5               1.5   \n",
      "85                 6.0               3.4                4.5               1.6   \n",
      "86                 6.7               3.1                4.7               1.5   \n",
      "87                 6.3               2.3                4.4               1.3   \n",
      "88                 5.6               3.0                4.1               1.3   \n",
      "89                 5.5               2.5                4.0               1.3   \n",
      "90                 5.5               2.6                4.4               1.2   \n",
      "91                 6.1               3.0                4.6               1.4   \n",
      "92                 5.8               2.6                4.0               1.2   \n",
      "93                 5.0               2.3                3.3               1.0   \n",
      "94                 5.6               2.7                4.2               1.3   \n",
      "95                 5.7               3.0                4.2               1.2   \n",
      "96                 5.7               2.9                4.2               1.3   \n",
      "97                 6.2               2.9                4.3               1.3   \n",
      "98                 5.1               2.5                3.0               1.1   \n",
      "99                 5.7               2.8                4.1               1.3   \n",
      "100                6.3               3.3                6.0               2.5   \n",
      "101                5.8               2.7                5.1               1.9   \n",
      "102                7.1               3.0                5.9               2.1   \n",
      "103                6.3               2.9                5.6               1.8   \n",
      "104                6.5               3.0                5.8               2.2   \n",
      "105                7.6               3.0                6.6               2.1   \n",
      "106                4.9               2.5                4.5               1.7   \n",
      "107                7.3               2.9                6.3               1.8   \n",
      "108                6.7               2.5                5.8               1.8   \n",
      "109                7.2               3.6                6.1               2.5   \n",
      "110                6.5               3.2                5.1               2.0   \n",
      "111                6.4               2.7                5.3               1.9   \n",
      "112                6.8               3.0                5.5               2.1   \n",
      "113                5.7               2.5                5.0               2.0   \n",
      "114                5.8               2.8                5.1               2.4   \n",
      "115                6.4               3.2                5.3               2.3   \n",
      "116                6.5               3.0                5.5               1.8   \n",
      "117                7.7               3.8                6.7               2.2   \n",
      "118                7.7               2.6                6.9               2.3   \n",
      "119                6.0               2.2                5.0               1.5   \n",
      "120                6.9               3.2                5.7               2.3   \n",
      "121                5.6               2.8                4.9               2.0   \n",
      "122                7.7               2.8                6.7               2.0   \n",
      "123                6.3               2.7                4.9               1.8   \n",
      "124                6.7               3.3                5.7               2.1   \n",
      "125                7.2               3.2                6.0               1.8   \n",
      "126                6.2               2.8                4.8               1.8   \n",
      "127                6.1               3.0                4.9               1.8   \n",
      "128                6.4               2.8                5.6               2.1   \n",
      "129                7.2               3.0                5.8               1.6   \n",
      "130                7.4               2.8                6.1               1.9   \n",
      "131                7.9               3.8                6.4               2.0   \n",
      "132                6.4               2.8                5.6               2.2   \n",
      "133                6.3               2.8                5.1               1.5   \n",
      "134                6.1               2.6                5.6               1.4   \n",
      "135                7.7               3.0                6.1               2.3   \n",
      "136                6.3               3.4                5.6               2.4   \n",
      "137                6.4               3.1                5.5               1.8   \n",
      "138                6.0               3.0                4.8               1.8   \n",
      "139                6.9               3.1                5.4               2.1   \n",
      "140                6.7               3.1                5.6               2.4   \n",
      "141                6.9               3.1                5.1               2.3   \n",
      "142                5.8               2.7                5.1               1.9   \n",
      "143                6.8               3.2                5.9               2.3   \n",
      "144                6.7               3.3                5.7               2.5   \n",
      "145                6.7               3.0                5.2               2.3   \n",
      "146                6.3               2.5                5.0               1.9   \n",
      "147                6.5               3.0                5.2               2.0   \n",
      "148                6.2               3.4                5.4               2.3   \n",
      "149                5.9               3.0                5.1               1.8   \n",
      "\n",
      "     target  \n",
      "0       0.0  \n",
      "1       0.0  \n",
      "2       0.0  \n",
      "3       0.0  \n",
      "4       0.0  \n",
      "5       0.0  \n",
      "6       0.0  \n",
      "7       0.0  \n",
      "8       0.0  \n",
      "9       0.0  \n",
      "10      0.0  \n",
      "11      0.0  \n",
      "12      0.0  \n",
      "13      0.0  \n",
      "14      0.0  \n",
      "15      0.0  \n",
      "16      0.0  \n",
      "17      0.0  \n",
      "18      0.0  \n",
      "19      0.0  \n",
      "20      0.0  \n",
      "21      0.0  \n",
      "22      0.0  \n",
      "23      0.0  \n",
      "24      0.0  \n",
      "25      0.0  \n",
      "26      0.0  \n",
      "27      0.0  \n",
      "28      0.0  \n",
      "29      0.0  \n",
      "30      0.0  \n",
      "31      0.0  \n",
      "32      0.0  \n",
      "33      0.0  \n",
      "34      0.0  \n",
      "35      0.0  \n",
      "36      0.0  \n",
      "37      0.0  \n",
      "38      0.0  \n",
      "39      0.0  \n",
      "40      0.0  \n",
      "41      0.0  \n",
      "42      0.0  \n",
      "43      0.0  \n",
      "44      0.0  \n",
      "45      0.0  \n",
      "46      0.0  \n",
      "47      0.0  \n",
      "48      0.0  \n",
      "49      0.0  \n",
      "50      1.0  \n",
      "51      1.0  \n",
      "52      1.0  \n",
      "53      1.0  \n",
      "54      1.0  \n",
      "55      1.0  \n",
      "56      1.0  \n",
      "57      1.0  \n",
      "58      1.0  \n",
      "59      1.0  \n",
      "60      1.0  \n",
      "61      1.0  \n",
      "62      1.0  \n",
      "63      1.0  \n",
      "64      1.0  \n",
      "65      1.0  \n",
      "66      1.0  \n",
      "67      1.0  \n",
      "68      1.0  \n",
      "69      1.0  \n",
      "70      1.0  \n",
      "71      1.0  \n",
      "72      1.0  \n",
      "73      1.0  \n",
      "74      1.0  \n",
      "75      1.0  \n",
      "76      1.0  \n",
      "77      1.0  \n",
      "78      1.0  \n",
      "79      1.0  \n",
      "80      1.0  \n",
      "81      1.0  \n",
      "82      1.0  \n",
      "83      1.0  \n",
      "84      1.0  \n",
      "85      1.0  \n",
      "86      1.0  \n",
      "87      1.0  \n",
      "88      1.0  \n",
      "89      1.0  \n",
      "90      1.0  \n",
      "91      1.0  \n",
      "92      1.0  \n",
      "93      1.0  \n",
      "94      1.0  \n",
      "95      1.0  \n",
      "96      1.0  \n",
      "97      1.0  \n",
      "98      1.0  \n",
      "99      1.0  \n",
      "100     2.0  \n",
      "101     2.0  \n",
      "102     2.0  \n",
      "103     2.0  \n",
      "104     2.0  \n",
      "105     2.0  \n",
      "106     2.0  \n",
      "107     2.0  \n",
      "108     2.0  \n",
      "109     2.0  \n",
      "110     2.0  \n",
      "111     2.0  \n",
      "112     2.0  \n",
      "113     2.0  \n",
      "114     2.0  \n",
      "115     2.0  \n",
      "116     2.0  \n",
      "117     2.0  \n",
      "118     2.0  \n",
      "119     2.0  \n",
      "120     2.0  \n",
      "121     2.0  \n",
      "122     2.0  \n",
      "123     2.0  \n",
      "124     2.0  \n",
      "125     2.0  \n",
      "126     2.0  \n",
      "127     2.0  \n",
      "128     2.0  \n",
      "129     2.0  \n",
      "130     2.0  \n",
      "131     2.0  \n",
      "132     2.0  \n",
      "133     2.0  \n",
      "134     2.0  \n",
      "135     2.0  \n",
      "136     2.0  \n",
      "137     2.0  \n",
      "138     2.0  \n",
      "139     2.0  \n",
      "140     2.0  \n",
      "141     2.0  \n",
      "142     2.0  \n",
      "143     2.0  \n",
      "144     2.0  \n",
      "145     2.0  \n",
      "146     2.0  \n",
      "147     2.0  \n",
      "148     2.0  \n",
      "149     2.0  \n",
      "   sepal length (cm)  sepal width (cm)  petal length (cm)  petal width (cm)  \\\n",
      "0                5.1               3.5                1.4               0.2   \n",
      "1                4.9               3.0                1.4               0.2   \n",
      "2                4.7               3.2                1.3               0.2   \n",
      "3                4.6               3.1                1.5               0.2   \n",
      "4                5.0               3.6                1.4               0.2   \n",
      "\n",
      "   target  \n",
      "0     0.0  \n",
      "1     0.0  \n",
      "2     0.0  \n",
      "3     0.0  \n",
      "4     0.0  \n",
      "\n",
      " Informacje o danych: \n",
      "<class 'pandas.core.frame.DataFrame'>\n",
      "RangeIndex: 150 entries, 0 to 149\n",
      "Data columns (total 5 columns):\n",
      " #   Column             Non-Null Count  Dtype  \n",
      "---  ------             --------------  -----  \n",
      " 0   sepal length (cm)  150 non-null    float64\n",
      " 1   sepal width (cm)   150 non-null    float64\n",
      " 2   petal length (cm)  150 non-null    float64\n",
      " 3   petal width (cm)   150 non-null    float64\n",
      " 4   target             150 non-null    float64\n",
      "dtypes: float64(5)\n",
      "memory usage: 6.0 KB\n",
      "None\n"
     ]
    }
   ],
   "source": [
    "print(\"\\r zad 1\")\n",
    "print(\"Pierwsze 5 wierszy zbioru danych:\")\n",
    "print(iris)\n",
    "print(iris.head())  # wyswitl wszystkie wiersze\n",
    "print(\"\\n Informacje o danych: \")\n",
    "print(iris.info())\n"
   ]
  },
  {
   "cell_type": "markdown",
   "metadata": {},
   "source": [
    "Zad.2\n"
   ]
  },
  {
   "cell_type": "code",
   "execution_count": 5,
   "metadata": {},
   "outputs": [
    {
     "name": "stdout",
     "output_type": "stream",
     "text": [
      "Liczba wiersz oraz kolumn (150, 5)\n"
     ]
    }
   ],
   "source": [
    "print(f\"Liczba wiersz oraz kolumn {iris.shape}\")\n"
   ]
  },
  {
   "cell_type": "markdown",
   "metadata": {},
   "source": [
    "Zad.3"
   ]
  },
  {
   "cell_type": "code",
   "execution_count": null,
   "metadata": {},
   "outputs": [],
   "source": []
  },
  {
   "cell_type": "code",
   "execution_count": 6,
   "metadata": {},
   "outputs": [
    {
     "name": "stdout",
     "output_type": "stream",
     "text": [
      "Podstawowe statystyki opisowe dla kazdej kolumny        sepal length (cm)  sepal width (cm)  petal length (cm)  \\\n",
      "count         150.000000        150.000000         150.000000   \n",
      "mean            5.843333          3.057333           3.758000   \n",
      "std             0.828066          0.435866           1.765298   \n",
      "min             4.300000          2.000000           1.000000   \n",
      "25%             5.100000          2.800000           1.600000   \n",
      "50%             5.800000          3.000000           4.350000   \n",
      "75%             6.400000          3.300000           5.100000   \n",
      "max             7.900000          4.400000           6.900000   \n",
      "\n",
      "       petal width (cm)      target  \n",
      "count        150.000000  150.000000  \n",
      "mean           1.199333    1.000000  \n",
      "std            0.762238    0.819232  \n",
      "min            0.100000    0.000000  \n",
      "25%            0.300000    0.000000  \n",
      "50%            1.300000    1.000000  \n",
      "75%            1.800000    2.000000  \n",
      "max            2.500000    2.000000  \n"
     ]
    }
   ],
   "source": [
    "print(f\"Podstawowe statystyki opisowe dla kazdej kolumny {iris.describe()}\")\n"
   ]
  },
  {
   "cell_type": "markdown",
   "metadata": {},
   "source": [
    "zad.4\n"
   ]
  },
  {
   "cell_type": "code",
   "execution_count": 7,
   "metadata": {},
   "outputs": [
    {
     "name": "stdout",
     "output_type": "stream",
     "text": [
      "        sepal length (cm)  sepal width (cm)  petal length (cm)  \\\n",
      "target                                                           \n",
      "0.0                 5.006             3.428              1.462   \n",
      "1.0                 5.936             2.770              4.260   \n",
      "2.0                 6.588             2.974              5.552   \n",
      "\n",
      "        petal width (cm)  \n",
      "target                    \n",
      "0.0                0.246  \n",
      "1.0                1.326  \n",
      "2.0                2.026  \n"
     ]
    }
   ],
   "source": [
    "\n",
    "#print(iris.groupby('sepal length (cm)').mean())  # pogrupowanei po rownych warotsciahc sepal lenth i  usredniee pozostalych wartosci )\n",
    " \n",
    "# Średnie dla każdej klasy (target)\\\n",
    "print(iris.groupby('target').mean())\n"
   ]
  },
  {
   "cell_type": "markdown",
   "metadata": {},
   "source": [
    "zad.5\n"
   ]
  },
  {
   "cell_type": "code",
   "execution_count": 8,
   "metadata": {},
   "outputs": [
    {
     "name": "stdout",
     "output_type": "stream",
     "text": [
      "   sepal length (cm)  sepal width (cm)  petal length (cm)  petal width (cm)  \\\n",
      "0                5.1               3.5                1.4               0.2   \n",
      "1                4.9               3.0                1.4               0.2   \n",
      "2                4.7               3.2                1.3               0.2   \n",
      "3                4.6               3.1                1.5               0.2   \n",
      "4                5.0               3.6                1.4               0.2   \n",
      "\n",
      "   target  \n",
      "0     0.0  \n",
      "1     0.0  \n",
      "2     0.0  \n",
      "3     0.0  \n",
      "4     0.0  \n",
      "sepal length (cm)    0\n",
      "sepal width (cm)     0\n",
      "petal length (cm)    0\n",
      "petal width (cm)     0\n",
      "target               0\n",
      "dtype: int64\n"
     ]
    }
   ],
   "source": [
    "print(iris.head(5))\n",
    "print(iris.isnull().sum()) "
   ]
  },
  {
   "cell_type": "markdown",
   "metadata": {},
   "source": [
    "zad.6\n"
   ]
  },
  {
   "cell_type": "code",
   "execution_count": 9,
   "metadata": {},
   "outputs": [
    {
     "name": "stdout",
     "output_type": "stream",
     "text": [
      "\n",
      "Dane po usunięciu brakujących wartości:\n",
      "   sepal length (cm)  sepal width (cm)  petal length (cm)  petal width (cm)  \\\n",
      "0                5.1               3.5                1.4               0.2   \n",
      "1                4.9               3.0                1.4               0.2   \n",
      "2                4.7               3.2                1.3               0.2   \n",
      "3                4.6               3.1                1.5               0.2   \n",
      "4                5.0               3.6                1.4               0.2   \n",
      "\n",
      "   target  \n",
      "0     0.0  \n",
      "1     0.0  \n",
      "2     0.0  \n",
      "3     0.0  \n",
      "4     0.0  \n"
     ]
    }
   ],
   "source": [
    "iris_clean = iris.dropna()  # Usunięcie brakujących danych, jeżeli występują\n",
    "print(\"\\nDane po usunięciu brakujących wartości:\")\n",
    "print(iris_clean.head())"
   ]
  },
  {
   "cell_type": "markdown",
   "metadata": {},
   "source": [
    "zad.7\n"
   ]
  },
  {
   "cell_type": "code",
   "execution_count": 10,
   "metadata": {},
   "outputs": [
    {
     "name": "stdout",
     "output_type": "stream",
     "text": [
      "\n",
      "Dane posortowane według drugiej kolumny (sepal width):\n",
      "     sepal length (cm)  sepal width (cm)  petal length (cm)  petal width (cm)  \\\n",
      "60                 5.0               2.0                3.5               1.0   \n",
      "62                 6.0               2.2                4.0               1.0   \n",
      "119                6.0               2.2                5.0               1.5   \n",
      "68                 6.2               2.2                4.5               1.5   \n",
      "87                 6.3               2.3                4.4               1.3   \n",
      "\n",
      "     target  \n",
      "60      1.0  \n",
      "62      1.0  \n",
      "119     2.0  \n",
      "68      1.0  \n",
      "87      1.0  \n"
     ]
    }
   ],
   "source": [
    "iris_sorted = iris.sort_values(by=iris.columns[1], ascending=True)  # Kolumna \"sepal width\"\n",
    "print(\"\\nDane posortowane według drugiej kolumny (sepal width):\")\n",
    "print(iris_sorted.head())\n"
   ]
  },
  {
   "cell_type": "markdown",
   "metadata": {},
   "source": [
    "zad.8\n"
   ]
  },
  {
   "cell_type": "code",
   "execution_count": 11,
   "metadata": {},
   "outputs": [
    {
     "name": "stdout",
     "output_type": "stream",
     "text": [
      "\n",
      "Minimalna wartość długości płatka: 1.0, indeks: 22\n",
      "Maksymalna wartość długości płatka: 6.9, indeks: 118\n"
     ]
    }
   ],
   "source": [
    "min_petal_length = iris.iloc[:, 2].min()  # Minimalna wartość dla \"petal length\"\n",
    "max_petal_length = iris.iloc[:, 2].max()  # Maksymalna wartość dla \"petal length\"\n",
    "min_index = iris.iloc[:, 2].idxmin()  # Indeks minimalnej wartości\n",
    "max_index = iris.iloc[:, 2].idxmax()  # Indeks maksymalnej \n",
    "\n",
    "\n",
    "\n",
    "print(f\"\\nMinimalna wartość długości płatka: {min_petal_length}, indeks: {min_index}\")\n",
    "print(f\"Maksymalna wartość długości płatka: {max_petal_length}, indeks: {max_index}\")"
   ]
  },
  {
   "cell_type": "markdown",
   "metadata": {},
   "source": [
    "zad.9\n"
   ]
  },
  {
   "cell_type": "code",
   "execution_count": 12,
   "metadata": {},
   "outputs": [
    {
     "name": "stdout",
     "output_type": "stream",
     "text": [
      "\n",
      "Odchylenie standardowe dla każdej kolumny:\n",
      "sepal length (cm)    0.828066\n",
      "sepal width (cm)     0.435866\n",
      "petal length (cm)    1.765298\n",
      "petal width (cm)     0.762238\n",
      "target               0.819232\n",
      "dtype: float64\n"
     ]
    }
   ],
   "source": [
    "std_devs = iris.std()  # Odchylenie standardowe dla wszystkich kolumn\n",
    "print(\"\\nOdchylenie standardowe dla każdej kolumny:\")\n",
    "print(std_devs)"
   ]
  },
  {
   "cell_type": "markdown",
   "metadata": {},
   "source": []
  },
  {
   "cell_type": "markdown",
   "metadata": {},
   "source": [
    "zad.10\n"
   ]
  },
  {
   "cell_type": "code",
   "execution_count": 13,
   "metadata": {},
   "outputs": [
    {
     "name": "stdout",
     "output_type": "stream",
     "text": [
      "\n",
      "Wiersze, gdzie długość kielicha (sepal length) jest większa od średniej:\n",
      "    sepal length (cm)  sepal width (cm)  petal length (cm)  petal width (cm)  \\\n",
      "50                7.0               3.2                4.7               1.4   \n",
      "51                6.4               3.2                4.5               1.5   \n",
      "52                6.9               3.1                4.9               1.5   \n",
      "54                6.5               2.8                4.6               1.5   \n",
      "56                6.3               3.3                4.7               1.6   \n",
      "\n",
      "    target  \n",
      "50     1.0  \n",
      "51     1.0  \n",
      "52     1.0  \n",
      "54     1.0  \n",
      "56     1.0  \n"
     ]
    }
   ],
   "source": [
    "mean_sepal_length = iris['sepal length (cm)'].mean()  # Średnia długość kielicha\n",
    "iris_sepal_above_mean = iris[iris['sepal length (cm)'] > mean_sepal_length]  # Wiersze, gdzie sepal length > średnia\n",
    "print(\"\\nWiersze, gdzie długość kielicha (sepal length) jest większa od średniej:\")\n",
    "print(iris_sepal_above_mean.head())"
   ]
  },
  {
   "cell_type": "markdown",
   "metadata": {},
   "source": [
    "zad.11"
   ]
  },
  {
   "cell_type": "code",
   "execution_count": 14,
   "metadata": {},
   "outputs": [
    {
     "data": {
      "image/png": "[encoded data removed]",
      "text/plain": [
       "<Figure size 640x480 with 1 Axes>"
      ]
     },
     "metadata": {},
     "output_type": "display_data"
    }
   ],
   "source": [
    "mean_petal_length_per_class = iris.groupby('target')['petal length (cm)'].mean().plot(kind=\"bar\")  # Średnia długość płatków dla każdej klasy\n",
    "#mean_petal_length_per_class.plot(kind='bar', color=['skyblue', 'orange', 'green'])\n",
    "plt.title(\"Średnia długość płatków dla każdej klasy kwiatu\")\n",
    "plt.xlabel(\"Klasa kwiatu (target)\")\n",
    "plt.ylabel(\"Średnia długość płatka (cm)\")\n",
    "plt.xticks(ticks=[0, 1, 2], labels=['target 0', 'target 1', 'target 2'], rotation=1)\n",
    "plt.show()"
   ]
  }
 ],
 "metadata": {
  "kernelspec": {
   "display_name": "Python 3",
   "language": "python",
   "name": "python3"
  },
  "language_info": {
   "codemirror_mode": {
    "name": "ipython",
    "version": 3
   },
   "file_extension": ".py",
   "mimetype": "text/x-python",
   "name": "python",
   "nbconvert_exporter": "python",
   "pygments_lexer": "ipython3",
   "version": "3.13.0"
  }
 },
 "nbformat": 4,
 "nbformat_minor": 2
}
