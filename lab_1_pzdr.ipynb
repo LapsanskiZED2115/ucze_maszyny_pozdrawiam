{
 "cells": [
  {
   "cell_type": "markdown",
   "metadata": {},
   "source": []
  },
  {
   "cell_type": "markdown",
   "metadata": {},
   "source": [
    "LAB 1, 05.03.2025\n"
   ]
  },
  {
   "cell_type": "code",
   "execution_count": 2,
   "metadata": {},
   "outputs": [],
   "source": [
    "import numpy as np\n",
    "import matplotlib.pyplot as plt\n",
    "import pandas as pd\n",
    "from sklearn.datasets import load_iris\n"
   ]
  },
  {
   "cell_type": "markdown",
   "metadata": {},
   "source": [
    "Importowanie danych \n"
   ]
  },
  {
   "cell_type": "code",
   "execution_count": 3,
   "metadata": {},
   "outputs": [],
   "source": [
    "from sklearn.datasets import load_iris\n",
    "irisRaw = load_iris()\n",
    "iris = pd.DataFrame(data= np.c_[irisRaw['data'], irisRaw['target']],\n",
    "                     columns= irisRaw['feature_names'] + ['target'])\n",
    "#tworzymy obiekt DataFrame z danych i etykiet iris i dodajemy nazwy kolumn \n"
   ]
  },
  {
   "cell_type": "markdown",
   "metadata": {},
   "source": [
    "Konwersja danych do pakiertu Pandas\n"
   ]
  },
  {
   "cell_type": "markdown",
   "metadata": {},
   "source": [
    "Zad.1   Wyświetl dane i zapoznaj się z ich strukturą.\n"
   ]
  },
  {
   "cell_type": "code",
   "execution_count": null,
   "metadata": {},
   "outputs": [
    {
     "name": "stdout",
     "output_type": "stream",
     "text": []
    }
   ],
   "source": [
    "print(\"\\r zad 1\")\n",
    "\n",
    "pd.set_option('display.max_rows', None) \n",
    "pd.set_option('display.max_columns', None) \n",
    "#zmieniamy opcje wyświetlania danych, aby wyświetlić wszystkie wiersze i kolumny \n",
    "print(iris)\n",
    "\n",
    "print(\"\\n Informacje o danych: \")\n",
    "print(iris.info())\n"
   ]
  },
  {
   "cell_type": "markdown",
   "metadata": {},
   "source": [
    "Zad.2   Sprawdź liczbę wierszy oraz kolumn w zbiorze danych.\n",
    "\n"
   ]
  },
  {
   "cell_type": "code",
   "execution_count": 5,
   "metadata": {},
   "outputs": [
    {
     "name": "stdout",
     "output_type": "stream",
     "text": []
    }
   ],
   "source": [
    "print(f\"Liczba wiersz oraz kolumn {iris.shape}\")\n"
   ]
  },
  {
   "cell_type": "markdown",
   "metadata": {},
   "source": [
    "Zad.3   Wyświetl podstawowe statystyki opisowe dla każdej kolumny, korzystając z metody describe()."
   ]
  },
  {
   "cell_type": "code",
   "execution_count": 6,
   "metadata": {},
   "outputs": [
    {
     "name": "stdout",
     "output_type": "stream",
     "text": []
    }
   ],
   "source": [
    "print(f\"Podstawowe statystyki opisowe dla kazdej kolumny {iris.describe()}\")\n",
    "#count - liczba wierszy, mean - średnia, \n",
    "# std - odchylenie standardowe, min - minimalna wartość, \n",
    "# 25% - Wartość, poniżej której znajduje się 25% danych,\n",
    "#  max - maksymalna wartość"
   ]
  },
  {
   "cell_type": "markdown",
   "metadata": {},
   "source": [
    "zad.4   Przeanalizuj działanie metody groupby() na dostępnych danych.\n",
    "\n"
   ]
  },
  {
   "cell_type": "code",
   "execution_count": 7,
   "metadata": {},
   "outputs": [
    {
     "name": "stdout",
     "output_type": "stream",
     "text": []
    }
   ],
   "source": [
    "\n",
    "\n",
    "print(\"\\n Grupowanie danych po wartościach sepal length i obliczenie średnich wartości pozostałych kolumn\")\n",
    "print(iris.groupby('petal length (cm)').mean())  # pogrupowanei po rownych wartościach petal length i  usredniee pozostalych wartosci )\n",
    " \n",
    "print(\"\\n Grupowanie danych po wartościach target i obliczenie sumy pozostałych kolumn\")\n",
    "print(iris.groupby('target').sum())\n"
   ]
  },
  {
   "cell_type": "markdown",
   "metadata": {},
   "source": [
    "zad.5   Wyświetl pierwsze 5 wierszy zbioru, korzystając z metody head().\n"
   ]
  },
  {
   "cell_type": "code",
   "execution_count": 8,
   "metadata": {},
   "outputs": [
    {
     "name": "stdout",
     "output_type": "stream",
     "text": []
    }
   ],
   "source": [
    "print(iris.head(5))\n"
   ]
  },
  {
   "cell_type": "markdown",
   "metadata": {},
   "source": [
    "zad.6   Sprawdź, czy w zbiorze występują brakujące dane, używając metody dropna().\n"
   ]
  },
  {
   "cell_type": "code",
   "execution_count": 9,
   "metadata": {},
   "outputs": [
    {
     "name": "stdout",
     "output_type": "stream",
     "text": []
    }
   ],
   "source": [
    "shape_iris = iris.shape\n",
    "if iris.dropna().shape == shape_iris:\n",
    "    print(\"Nie brakuje danych\")\n",
    "else:\n",
    "    print(\"Są brakujące dane\")\n",
    "\n",
    "#iris.dropna() tworzy nowy DataFrame bez brakujących wartości.\n",
    "#shape zwraca liczbę wierszy i kolumn.\n",
    "#Jeśli kształt (rozmiar) oryginalnego DataFrame jest równy wersji bez braków, to znaczy, że nie ma brakujących danych.\n",
    "#Jeśli rozmiar jest inny, to oznacza, że jakieś dane zostały usunięte, czyli są braki."
   ]
  },
  {
   "cell_type": "markdown",
   "metadata": {},
   "source": [
    "zad.7   Posortuj dane rosnąco względem drugiej kolumny, używając sort_values().\n"
   ]
  },
  {
   "cell_type": "code",
   "execution_count": 10,
   "metadata": {},
   "outputs": [
    {
     "name": "stdout",
     "output_type": "stream",
     "text": []
    }
   ],
   "source": [
    "iris_sorted = iris.sort_values(by=iris.columns[1], ascending=True)  # Kolumna \"sepal width\"\n",
    "print(\"\\nDane posortowane według drugiej kolumny (sepal width):\")\n",
    "print(iris_sorted.head())\n",
    "#Kod sortuje dane z ramki danych iris według wartości w drugiej kolumnie, czyli \"sepal width\", w kolejności rosnącej. Wynik sortowania \n",
    "# jest przypisywany do zmiennej iris_sorted. Następnie wyświetlane jest pięć pierwszych wierszy posortowanych danych za pomocą funkcji head().\n"
   ]
  },
  {
   "cell_type": "markdown",
   "metadata": {},
   "source": [
    "zad.8   Znajdź minimalną i maksymalną wartość długości płatka (petal length - kolumna 3) oraz indeksy tych wartości (min(), idxmin()).\n"
   ]
  },
  {
   "cell_type": "code",
   "execution_count": 11,
   "metadata": {},
   "outputs": [
    {
     "name": "stdout",
     "output_type": "stream",
     "text": []
    }
   ],
   "source": [
    "min_petal_length = iris.iloc[:, 2].min()  # Minimalna wartość dla \"petal length\"\n",
    "max_petal_length = iris.iloc[:, 2].max()  # Maksymalna wartość dla \"petal length\"\n",
    "min_index = iris.iloc[:, 2].idxmin()  # Indeks minimalnej wartości\n",
    "max_index = iris.iloc[:, 2].idxmax()  # Indeks maksymalnej \n",
    "#iloc słuz do wybierania danych z DataFrame po indeksie\n",
    "\n",
    "\n",
    "\n",
    "print(f\"\\nMinimalna wartość długości płatka: {min_petal_length}, indeks: {min_index}\")\n",
    "print(f\"Maksymalna wartość długości płatka: {max_petal_length}, indeks: {max_index}\")"
   ]
  },
  {
   "cell_type": "markdown",
   "metadata": {},
   "source": [
    "zad.9\n",
    "Oblicz odchylenie standardowe (std) dla każdej kolumny.\n",
    "\n"
   ]
  },
  {
   "cell_type": "code",
   "execution_count": 12,
   "metadata": {},
   "outputs": [
    {
     "name": "stdout",
     "output_type": "stream",
     "text": []
    }
   ],
   "source": [
    "std_devs = iris.std()  # Odchylenie standardowe dla wszystkich kolumn\n",
    "print(\"\\nOdchylenie standardowe dla każdej kolumny:\")\n",
    "print(std_devs)"
   ]
  },
  {
   "cell_type": "markdown",
   "metadata": {},
   "source": [
    "zad.10  Wyodrębnij wiersze, dla których długość kielicha (sepal length) jest większa od średniej wartości w zbiorze.\n"
   ]
  },
  {
   "cell_type": "code",
   "execution_count": 13,
   "metadata": {},
   "outputs": [
    {
     "name": "stdout",
     "output_type": "stream",
     "text": []
    }
   ],
   "source": [
    "mean_sepal_length = iris['sepal length (cm)'].mean()  # Średnia długość sepal\n",
    "print(f\"Średnia długość sepal: {mean_sepal_length}\")\n",
    "iris_sepal_above_mean = iris[iris['sepal length (cm)'] > mean_sepal_length]  \n",
    "#tworzy nowy DataFrame, który zawiera tylko \n",
    "# te wiersze, gdzie długość kielicha jest większa od tej średniej.\n",
    "print(\"\\nWiersze, gdzie długość kielicha (sepal length) jest większa od średniej:\")\n",
    "print(iris_sepal_above_mean)\n",
    "\n",
    "#Kod najpierw oblicza średnią wartość dla kolumny \"sepal length (cm)\", a następnie  \n",
    "# Na końcu wyświetla pierwsze pięć wierszy tego przefiltrowanego zbioru danych."
   ]
  },
  {
   "cell_type": "markdown",
   "metadata": {},
   "source": [
    "zad.11  Wykonaj wykres słupkowy (barplot) przedstawiający średnią długość płatków dla każdej klasy kwiatu."
   ]
  },
  {
   "cell_type": "code",
   "execution_count": 14,
   "metadata": {},
   "outputs": [
    {
     "name": "stdout",
     "output_type": "stream",
     "text": []
    }
   ],
   "source": [
    "mean_petal_length_per_class = iris.groupby('target')['petal length (cm)'].mean() # Średnia długość płatków dla każdej klasy\n",
    "mean_petal_length_per_class.plot(kind='bar', color=['skyblue', 'orange', 'green'])\n",
    "plt.title(\"Średnia długość płatków dla każdej klasy kwiatu\")\n",
    "plt.xlabel(\"Klasa kwiatu (target)\")\n",
    "plt.ylabel(\"Średnia długość płatka (cm)\")\n",
    "plt.xticks(ticks=[0, 1, 2], labels=['klasa I', 'klasa II', 'klasa II'], rotation=1)\n",
    "#ustawienie etykiet na osi x\n",
    "plt.show()"
   ]
  }
 ],
 "metadata": {
  "kernelspec": {
   "display_name": "Python 3",
   "language": "python",
   "name": "python3"
  },
  "language_info": {
   "codemirror_mode": {
    "name": "ipython",
    "version": 3
   },
   "file_extension": ".py",
   "mimetype": "text/x-python",
   "name": "python",
   "nbconvert_exporter": "python",
   "pygments_lexer": "ipython3",
   "version": "3.13.0"
  }
 },
 "nbformat": 4,
 "nbformat_minor": 2
}
